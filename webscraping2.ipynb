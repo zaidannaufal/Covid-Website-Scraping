{
  "nbformat": 4,
  "nbformat_minor": 0,
  "metadata": {
    "colab": {
      "name": "webscraping2.ipnyb",
      "provenance": []
    },
    "kernelspec": {
      "name": "python3",
      "display_name": "Python 3"
    },
    "language_info": {
      "name": "python"
    }
  },
  "cells": [
    {
      "cell_type": "code",
      "metadata": {
        "colab": {
          "base_uri": "https://localhost:8080/"
        },
        "id": "nwIFBy2gAkY2",
        "outputId": "8b0e5d6e-ba1d-4fca-99b1-18fa738a9856"
      },
      "source": [
        "!pip install selenium\n",
        "!apt-get update # to update ubuntu to correctly run apt install\n",
        "!apt install chromium-chromedriver\n",
        "!cp /usr/lib/chromium-browser/chromedriver /usr/bin"
      ],
      "execution_count": 3,
      "outputs": [
        {
          "output_type": "stream",
          "text": [
            "Collecting selenium\n",
            "\u001b[?25l  Downloading https://files.pythonhosted.org/packages/80/d6/4294f0b4bce4de0abf13e17190289f9d0613b0a44e5dd6a7f5ca98459853/selenium-3.141.0-py2.py3-none-any.whl (904kB)\n",
            "\r\u001b[K     |▍                               | 10kB 9.7MB/s eta 0:00:01\r\u001b[K     |▊                               | 20kB 11.9MB/s eta 0:00:01\r\u001b[K     |█                               | 30kB 13.5MB/s eta 0:00:01\r\u001b[K     |█▌                              | 40kB 12.5MB/s eta 0:00:01\r\u001b[K     |█▉                              | 51kB 5.4MB/s eta 0:00:01\r\u001b[K     |██▏                             | 61kB 5.2MB/s eta 0:00:01\r\u001b[K     |██▌                             | 71kB 5.8MB/s eta 0:00:01\r\u001b[K     |███                             | 81kB 6.0MB/s eta 0:00:01\r\u001b[K     |███▎                            | 92kB 6.1MB/s eta 0:00:01\r\u001b[K     |███▋                            | 102kB 6.4MB/s eta 0:00:01\r\u001b[K     |████                            | 112kB 6.4MB/s eta 0:00:01\r\u001b[K     |████▍                           | 122kB 6.4MB/s eta 0:00:01\r\u001b[K     |████▊                           | 133kB 6.4MB/s eta 0:00:01\r\u001b[K     |█████                           | 143kB 6.4MB/s eta 0:00:01\r\u001b[K     |█████▍                          | 153kB 6.4MB/s eta 0:00:01\r\u001b[K     |█████▉                          | 163kB 6.4MB/s eta 0:00:01\r\u001b[K     |██████▏                         | 174kB 6.4MB/s eta 0:00:01\r\u001b[K     |██████▌                         | 184kB 6.4MB/s eta 0:00:01\r\u001b[K     |██████▉                         | 194kB 6.4MB/s eta 0:00:01\r\u001b[K     |███████▎                        | 204kB 6.4MB/s eta 0:00:01\r\u001b[K     |███████▋                        | 215kB 6.4MB/s eta 0:00:01\r\u001b[K     |████████                        | 225kB 6.4MB/s eta 0:00:01\r\u001b[K     |████████▎                       | 235kB 6.4MB/s eta 0:00:01\r\u001b[K     |████████▊                       | 245kB 6.4MB/s eta 0:00:01\r\u001b[K     |█████████                       | 256kB 6.4MB/s eta 0:00:01\r\u001b[K     |█████████▍                      | 266kB 6.4MB/s eta 0:00:01\r\u001b[K     |█████████▉                      | 276kB 6.4MB/s eta 0:00:01\r\u001b[K     |██████████▏                     | 286kB 6.4MB/s eta 0:00:01\r\u001b[K     |██████████▌                     | 296kB 6.4MB/s eta 0:00:01\r\u001b[K     |██████████▉                     | 307kB 6.4MB/s eta 0:00:01\r\u001b[K     |███████████▎                    | 317kB 6.4MB/s eta 0:00:01\r\u001b[K     |███████████▋                    | 327kB 6.4MB/s eta 0:00:01\r\u001b[K     |████████████                    | 337kB 6.4MB/s eta 0:00:01\r\u001b[K     |████████████▎                   | 348kB 6.4MB/s eta 0:00:01\r\u001b[K     |████████████▊                   | 358kB 6.4MB/s eta 0:00:01\r\u001b[K     |█████████████                   | 368kB 6.4MB/s eta 0:00:01\r\u001b[K     |█████████████▍                  | 378kB 6.4MB/s eta 0:00:01\r\u001b[K     |█████████████▊                  | 389kB 6.4MB/s eta 0:00:01\r\u001b[K     |██████████████▏                 | 399kB 6.4MB/s eta 0:00:01\r\u001b[K     |██████████████▌                 | 409kB 6.4MB/s eta 0:00:01\r\u001b[K     |██████████████▉                 | 419kB 6.4MB/s eta 0:00:01\r\u001b[K     |███████████████▏                | 430kB 6.4MB/s eta 0:00:01\r\u001b[K     |███████████████▋                | 440kB 6.4MB/s eta 0:00:01\r\u001b[K     |████████████████                | 450kB 6.4MB/s eta 0:00:01\r\u001b[K     |████████████████▎               | 460kB 6.4MB/s eta 0:00:01\r\u001b[K     |████████████████▋               | 471kB 6.4MB/s eta 0:00:01\r\u001b[K     |█████████████████               | 481kB 6.4MB/s eta 0:00:01\r\u001b[K     |█████████████████▍              | 491kB 6.4MB/s eta 0:00:01\r\u001b[K     |█████████████████▊              | 501kB 6.4MB/s eta 0:00:01\r\u001b[K     |██████████████████▏             | 512kB 6.4MB/s eta 0:00:01\r\u001b[K     |██████████████████▌             | 522kB 6.4MB/s eta 0:00:01\r\u001b[K     |██████████████████▉             | 532kB 6.4MB/s eta 0:00:01\r\u001b[K     |███████████████████▏            | 542kB 6.4MB/s eta 0:00:01\r\u001b[K     |███████████████████▋            | 552kB 6.4MB/s eta 0:00:01\r\u001b[K     |████████████████████            | 563kB 6.4MB/s eta 0:00:01\r\u001b[K     |████████████████████▎           | 573kB 6.4MB/s eta 0:00:01\r\u001b[K     |████████████████████▋           | 583kB 6.4MB/s eta 0:00:01\r\u001b[K     |█████████████████████           | 593kB 6.4MB/s eta 0:00:01\r\u001b[K     |█████████████████████▍          | 604kB 6.4MB/s eta 0:00:01\r\u001b[K     |█████████████████████▊          | 614kB 6.4MB/s eta 0:00:01\r\u001b[K     |██████████████████████          | 624kB 6.4MB/s eta 0:00:01\r\u001b[K     |██████████████████████▌         | 634kB 6.4MB/s eta 0:00:01\r\u001b[K     |██████████████████████▉         | 645kB 6.4MB/s eta 0:00:01\r\u001b[K     |███████████████████████▏        | 655kB 6.4MB/s eta 0:00:01\r\u001b[K     |███████████████████████▌        | 665kB 6.4MB/s eta 0:00:01\r\u001b[K     |████████████████████████        | 675kB 6.4MB/s eta 0:00:01\r\u001b[K     |████████████████████████▎       | 686kB 6.4MB/s eta 0:00:01\r\u001b[K     |████████████████████████▋       | 696kB 6.4MB/s eta 0:00:01\r\u001b[K     |█████████████████████████       | 706kB 6.4MB/s eta 0:00:01\r\u001b[K     |█████████████████████████▍      | 716kB 6.4MB/s eta 0:00:01\r\u001b[K     |█████████████████████████▊      | 727kB 6.4MB/s eta 0:00:01\r\u001b[K     |██████████████████████████      | 737kB 6.4MB/s eta 0:00:01\r\u001b[K     |██████████████████████████▍     | 747kB 6.4MB/s eta 0:00:01\r\u001b[K     |██████████████████████████▉     | 757kB 6.4MB/s eta 0:00:01\r\u001b[K     |███████████████████████████▏    | 768kB 6.4MB/s eta 0:00:01\r\u001b[K     |███████████████████████████▌    | 778kB 6.4MB/s eta 0:00:01\r\u001b[K     |████████████████████████████    | 788kB 6.4MB/s eta 0:00:01\r\u001b[K     |████████████████████████████▎   | 798kB 6.4MB/s eta 0:00:01\r\u001b[K     |████████████████████████████▋   | 808kB 6.4MB/s eta 0:00:01\r\u001b[K     |█████████████████████████████   | 819kB 6.4MB/s eta 0:00:01\r\u001b[K     |█████████████████████████████▍  | 829kB 6.4MB/s eta 0:00:01\r\u001b[K     |█████████████████████████████▊  | 839kB 6.4MB/s eta 0:00:01\r\u001b[K     |██████████████████████████████  | 849kB 6.4MB/s eta 0:00:01\r\u001b[K     |██████████████████████████████▍ | 860kB 6.4MB/s eta 0:00:01\r\u001b[K     |██████████████████████████████▉ | 870kB 6.4MB/s eta 0:00:01\r\u001b[K     |███████████████████████████████▏| 880kB 6.4MB/s eta 0:00:01\r\u001b[K     |███████████████████████████████▌| 890kB 6.4MB/s eta 0:00:01\r\u001b[K     |███████████████████████████████▉| 901kB 6.4MB/s eta 0:00:01\r\u001b[K     |████████████████████████████████| 911kB 6.4MB/s \n",
            "\u001b[?25hRequirement already satisfied: urllib3 in /usr/local/lib/python3.7/dist-packages (from selenium) (1.24.3)\n",
            "Installing collected packages: selenium\n",
            "Successfully installed selenium-3.141.0\n",
            "Get:1 http://security.ubuntu.com/ubuntu bionic-security InRelease [88.7 kB]\n",
            "Ign:2 https://developer.download.nvidia.com/compute/cuda/repos/ubuntu1804/x86_64  InRelease\n",
            "Get:3 http://ppa.launchpad.net/c2d4u.team/c2d4u4.0+/ubuntu bionic InRelease [15.9 kB]\n",
            "Ign:4 https://developer.download.nvidia.com/compute/machine-learning/repos/ubuntu1804/x86_64  InRelease\n",
            "Get:5 https://cloud.r-project.org/bin/linux/ubuntu bionic-cran40/ InRelease [3,626 B]\n",
            "Get:6 https://developer.download.nvidia.com/compute/cuda/repos/ubuntu1804/x86_64  Release [697 B]\n",
            "Hit:7 http://archive.ubuntu.com/ubuntu bionic InRelease\n",
            "Hit:8 https://developer.download.nvidia.com/compute/machine-learning/repos/ubuntu1804/x86_64  Release\n",
            "Get:9 https://developer.download.nvidia.com/compute/cuda/repos/ubuntu1804/x86_64  Release.gpg [836 B]\n",
            "Get:10 http://archive.ubuntu.com/ubuntu bionic-updates InRelease [88.7 kB]\n",
            "Get:11 http://security.ubuntu.com/ubuntu bionic-security/universe amd64 Packages [1,418 kB]\n",
            "Hit:12 http://ppa.launchpad.net/cran/libgit2/ubuntu bionic InRelease\n",
            "Get:13 http://security.ubuntu.com/ubuntu bionic-security/main amd64 Packages [2,221 kB]\n",
            "Get:14 http://archive.ubuntu.com/ubuntu bionic-backports InRelease [74.6 kB]\n",
            "Get:15 http://ppa.launchpad.net/deadsnakes/ppa/ubuntu bionic InRelease [15.9 kB]\n",
            "Get:16 https://cloud.r-project.org/bin/linux/ubuntu bionic-cran40/ Packages [62.2 kB]\n",
            "Hit:17 http://ppa.launchpad.net/graphics-drivers/ppa/ubuntu bionic InRelease\n",
            "Ign:19 https://developer.download.nvidia.com/compute/cuda/repos/ubuntu1804/x86_64  Packages\n",
            "Get:19 https://developer.download.nvidia.com/compute/cuda/repos/ubuntu1804/x86_64  Packages [637 kB]\n",
            "Get:20 http://ppa.launchpad.net/c2d4u.team/c2d4u4.0+/ubuntu bionic/main Sources [1,780 kB]\n",
            "Get:21 http://archive.ubuntu.com/ubuntu bionic-updates/main amd64 Packages [2,658 kB]\n",
            "Get:22 http://ppa.launchpad.net/c2d4u.team/c2d4u4.0+/ubuntu bionic/main amd64 Packages [910 kB]\n",
            "Get:23 http://archive.ubuntu.com/ubuntu bionic-updates/universe amd64 Packages [2,188 kB]\n",
            "Get:24 http://ppa.launchpad.net/deadsnakes/ppa/ubuntu bionic/main amd64 Packages [40.8 kB]\n",
            "Fetched 12.2 MB in 4s (3,317 kB/s)\n",
            "Reading package lists... Done\n",
            "Reading package lists... Done\n",
            "Building dependency tree       \n",
            "Reading state information... Done\n",
            "The following additional packages will be installed:\n",
            "  chromium-browser chromium-browser-l10n chromium-codecs-ffmpeg-extra\n",
            "Suggested packages:\n",
            "  webaccounts-chromium-extension unity-chromium-extension\n",
            "The following NEW packages will be installed:\n",
            "  chromium-browser chromium-browser-l10n chromium-chromedriver\n",
            "  chromium-codecs-ffmpeg-extra\n",
            "0 upgraded, 4 newly installed, 0 to remove and 58 not upgraded.\n",
            "Need to get 86.0 MB of archives.\n",
            "After this operation, 298 MB of additional disk space will be used.\n",
            "Get:1 http://archive.ubuntu.com/ubuntu bionic-updates/universe amd64 chromium-codecs-ffmpeg-extra amd64 91.0.4472.101-0ubuntu0.18.04.1 [1,124 kB]\n",
            "Get:2 http://archive.ubuntu.com/ubuntu bionic-updates/universe amd64 chromium-browser amd64 91.0.4472.101-0ubuntu0.18.04.1 [76.1 MB]\n",
            "Get:3 http://archive.ubuntu.com/ubuntu bionic-updates/universe amd64 chromium-browser-l10n all 91.0.4472.101-0ubuntu0.18.04.1 [3,937 kB]\n",
            "Get:4 http://archive.ubuntu.com/ubuntu bionic-updates/universe amd64 chromium-chromedriver amd64 91.0.4472.101-0ubuntu0.18.04.1 [4,837 kB]\n",
            "Fetched 86.0 MB in 4s (23.4 MB/s)\n",
            "Selecting previously unselected package chromium-codecs-ffmpeg-extra.\n",
            "(Reading database ... 160815 files and directories currently installed.)\n",
            "Preparing to unpack .../chromium-codecs-ffmpeg-extra_91.0.4472.101-0ubuntu0.18.04.1_amd64.deb ...\n",
            "Unpacking chromium-codecs-ffmpeg-extra (91.0.4472.101-0ubuntu0.18.04.1) ...\n",
            "Selecting previously unselected package chromium-browser.\n",
            "Preparing to unpack .../chromium-browser_91.0.4472.101-0ubuntu0.18.04.1_amd64.deb ...\n",
            "Unpacking chromium-browser (91.0.4472.101-0ubuntu0.18.04.1) ...\n",
            "Selecting previously unselected package chromium-browser-l10n.\n",
            "Preparing to unpack .../chromium-browser-l10n_91.0.4472.101-0ubuntu0.18.04.1_all.deb ...\n",
            "Unpacking chromium-browser-l10n (91.0.4472.101-0ubuntu0.18.04.1) ...\n",
            "Selecting previously unselected package chromium-chromedriver.\n",
            "Preparing to unpack .../chromium-chromedriver_91.0.4472.101-0ubuntu0.18.04.1_amd64.deb ...\n",
            "Unpacking chromium-chromedriver (91.0.4472.101-0ubuntu0.18.04.1) ...\n",
            "Setting up chromium-codecs-ffmpeg-extra (91.0.4472.101-0ubuntu0.18.04.1) ...\n",
            "Setting up chromium-browser (91.0.4472.101-0ubuntu0.18.04.1) ...\n",
            "update-alternatives: using /usr/bin/chromium-browser to provide /usr/bin/x-www-browser (x-www-browser) in auto mode\n",
            "update-alternatives: using /usr/bin/chromium-browser to provide /usr/bin/gnome-www-browser (gnome-www-browser) in auto mode\n",
            "Setting up chromium-chromedriver (91.0.4472.101-0ubuntu0.18.04.1) ...\n",
            "Setting up chromium-browser-l10n (91.0.4472.101-0ubuntu0.18.04.1) ...\n",
            "Processing triggers for man-db (2.8.3-2ubuntu0.1) ...\n",
            "Processing triggers for hicolor-icon-theme (0.17-2) ...\n",
            "Processing triggers for mime-support (3.60ubuntu1) ...\n",
            "Processing triggers for libc-bin (2.27-3ubuntu1.2) ...\n",
            "/sbin/ldconfig.real: /usr/local/lib/python3.7/dist-packages/ideep4py/lib/libmkldnn.so.0 is not a symbolic link\n",
            "\n",
            "cp: '/usr/lib/chromium-browser/chromedriver' and '/usr/bin/chromedriver' are the same file\n"
          ],
          "name": "stdout"
        }
      ]
    },
    {
      "cell_type": "code",
      "metadata": {
        "id": "3-O9Hxyy_1mf"
      },
      "source": [
        "#!/usr/bin/env python\n",
        "\n",
        "from selenium import webdriver\n",
        "from selenium.webdriver.support.ui import Select\n",
        "from bs4 import BeautifulSoup\n",
        "import pandas as pd\n",
        "from datetime import datetime as dt\n",
        "import sys\n",
        "sys.path.insert(0,'/usr/lib/chromium-browser/chromedriver')\n",
        "chrome_options = webdriver.ChromeOptions()\n",
        "chrome_options.add_argument('--headless')\n",
        "chrome_options.add_argument('--no-sandbox')\n",
        "chrome_options.add_argument('--disable-dev-shm-usage')\n",
        "wd = webdriver.Chrome('chromedriver',options =chrome_options)\n",
        "SOURCE = \"https://corona.kebumenkab.go.id/\""
      ],
      "execution_count": 4,
      "outputs": []
    },
    {
      "cell_type": "code",
      "metadata": {
        "id": "Sdoq2MRHAScR",
        "colab": {
          "base_uri": "https://localhost:8080/",
          "height": 35
        },
        "outputId": "48478db7-7179-4167-c7f4-0c3e2ed2fb89"
      },
      "source": [
        "wd.get(SOURCE)\n",
        "# wd.find_element_by_xpath(\"/html/body/div[3]/div/div[2]/div[2]/div[1]/div[9]/div/div[2]/div/div/div[1]/div[2]/label/select/option[4]\").click()\n",
        "content = wd.page_source\n",
        "soup = BeautifulSoup(content, features=\"html.parser\")\n",
        "positif_dirawat = soup.find(\"h2\", \"h2 font-weight-bold mt-1 mb-0 text-center\")\n",
        "positif_dirawat = positif_dirawat.find(\"span\",class_ = \"color-red\").get_text()"
      ],
      "execution_count": 11,
      "outputs": [
        {
          "output_type": "execute_result",
          "data": {
            "application/vnd.google.colaboratory.intrinsic+json": {
              "type": "string"
            },
            "text/plain": [
              "'464'"
            ]
          },
          "metadata": {
            "tags": []
          },
          "execution_count": 11
        }
      ]
    },
    {
      "cell_type": "code",
      "metadata": {
        "id": "rOfxCUfCf_k4"
      },
      "source": [
        "number =table.find_all(\"span\",class_=\"color-red\") \n",
        "positif_isolasi = number[1].get_text()\n",
        "positif_meninggal = number[2].get_text()\n",
        "positif_sembuh = number[3].get_text()"
      ],
      "execution_count": 21,
      "outputs": []
    },
    {
      "cell_type": "code",
      "metadata": {
        "id": "x78mGGb1y813"
      },
      "source": [
        "def ChangeDatetoRightFormat(string_date):\n",
        "  kamus = ['januari', 'februari', 'maret', 'april', 'mei', 'juni','juli','agustus', 'september', 'oktober','november','desember']\n",
        "  date_hari, date_bulan, date_tahun = string_date[:2],string_date[3:-5],string_date[-4:]\n",
        "  date_bulan = kamus.index(date_bulan.lower())+1\n",
        "  if(int(date_hari)<10):\n",
        "    date_hari= \"0\"+date_hari\n",
        "  if(date_bulan<10):\n",
        "    date_bulan=\"0{}\".format(date_bulan)\n",
        "  return \"{}-{}-{}\".format(date_tahun,date_bulan,date_hari)"
      ],
      "execution_count": 33,
      "outputs": []
    },
    {
      "cell_type": "code",
      "metadata": {
        "id": "BU-hiEhYtF3j",
        "colab": {
          "base_uri": "https://localhost:8080/",
          "height": 35
        },
        "outputId": "4b0b9a71-7289-4d08-9166-01f95ca64c14"
      },
      "source": [
        "import re\n",
        "date = soup.find(\"h3\",class_=\"subheading\")\n",
        "string_date = re.search(r\":(.[\\w ]*) \",date.get_text()).group(1).strip()\n",
        "formatted_date = ChangeDatetoRightFormat(string_date)\n",
        "scrape_date = dt.now().strftime('%Y-%m-%d')"
      ],
      "execution_count": 35,
      "outputs": [
        {
          "output_type": "execute_result",
          "data": {
            "application/vnd.google.colaboratory.intrinsic+json": {
              "type": "string"
            },
            "text/plain": [
              "'2021-07-13'"
            ]
          },
          "metadata": {
            "tags": []
          },
          "execution_count": 35
        }
      ]
    },
    {
      "cell_type": "code",
      "metadata": {
        "colab": {
          "base_uri": "https://localhost:8080/",
          "height": 114
        },
        "id": "t_2PQY0HMZW-",
        "outputId": "1fa2d65a-2bcc-421c-c245-dafada8ee0d4"
      },
      "source": [
        "df = pd.DataFrame()\n",
        "df['scrape_date'] = [scrape_date]\n",
        "df['date_update'] = [formatted_date]\n",
        "df['provinsi'] = [\"Jawa Tengah\"]\n",
        "df['kabkot'] = [\"Kebumen\"]\n",
        "df['total_odp'] = 0\n",
        "df['total_pdp'] = 0\n",
        "df['positif_sembuh'] = [positif_sembuh]\n",
        "df['positif_dirawat'] = [positif_dirawat]\n",
        "df['positif_isolasi'] = [positif_isolasi]\n",
        "df['positif_meninggal'] = [positif_meninggal]\n",
        "df['types'] = [\"kabkot\"]\n",
        "df['source_link'] = [SOURCE]\n",
        "df['user_pic'] = [\"Zaidan Naufal Sudrajat\"]\n",
        "df"
      ],
      "execution_count": 36,
      "outputs": [
        {
          "output_type": "execute_result",
          "data": {
            "text/html": [
              "<div>\n",
              "<style scoped>\n",
              "    .dataframe tbody tr th:only-of-type {\n",
              "        vertical-align: middle;\n",
              "    }\n",
              "\n",
              "    .dataframe tbody tr th {\n",
              "        vertical-align: top;\n",
              "    }\n",
              "\n",
              "    .dataframe thead th {\n",
              "        text-align: right;\n",
              "    }\n",
              "</style>\n",
              "<table border=\"1\" class=\"dataframe\">\n",
              "  <thead>\n",
              "    <tr style=\"text-align: right;\">\n",
              "      <th></th>\n",
              "      <th>scrape_date</th>\n",
              "      <th>date_update</th>\n",
              "      <th>provinsi</th>\n",
              "      <th>kabkot</th>\n",
              "      <th>total_odp</th>\n",
              "      <th>total_pdp</th>\n",
              "      <th>positif_sembuh</th>\n",
              "      <th>positif_dirawat</th>\n",
              "      <th>positif_isolasi</th>\n",
              "      <th>positif_meninggal</th>\n",
              "      <th>types</th>\n",
              "      <th>source_link</th>\n",
              "      <th>user_pic</th>\n",
              "    </tr>\n",
              "  </thead>\n",
              "  <tbody>\n",
              "    <tr>\n",
              "      <th>0</th>\n",
              "      <td>2021-07-13</td>\n",
              "      <td>2021-07-13</td>\n",
              "      <td>Jawa Tengah</td>\n",
              "      <td>Kebumen</td>\n",
              "      <td>0</td>\n",
              "      <td>0</td>\n",
              "      <td>10.522</td>\n",
              "      <td>464</td>\n",
              "      <td>715</td>\n",
              "      <td>550</td>\n",
              "      <td>kabkot</td>\n",
              "      <td>https://corona.kebumenkab.go.id/</td>\n",
              "      <td>Zaidan Naufal Sudrajat</td>\n",
              "    </tr>\n",
              "  </tbody>\n",
              "</table>\n",
              "</div>"
            ],
            "text/plain": [
              "  scrape_date  ...                user_pic\n",
              "0  2021-07-13  ...  Zaidan Naufal Sudrajat\n",
              "\n",
              "[1 rows x 13 columns]"
            ]
          },
          "metadata": {
            "tags": []
          },
          "execution_count": 36
        }
      ]
    }
  ]
}